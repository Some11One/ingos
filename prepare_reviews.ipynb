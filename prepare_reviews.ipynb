{
 "cells": [
  {
   "cell_type": "code",
   "execution_count": 109,
   "metadata": {},
   "outputs": [],
   "source": [
    "import pandas as pd\n",
    "import numpy as np\n",
    "import tqdm\n",
    "\n",
    "from datetime import datetime\n",
    "\n",
    "from collections import Counter\n",
    "from sklearn.feature_extraction.text import TfidfVectorizer\n",
    "\n",
    "from sklearn.model_selection import train_test_split\n",
    "from sklearn.svm import LinearSVC\n",
    "from sklearn.metrics import accuracy_score\n",
    "\n",
    "import googlemaps\n",
    "import foursquare\n",
    "\n",
    "\n",
    "from catboost import CatBoostClassifier, CatBoostRegressor\n",
    "from sklearn.metrics import roc_auc_score\n",
    "\n",
    "import nltk, string\n",
    "from nltk.tokenize import punkt\n",
    "from nltk.tokenize import word_tokenize\n",
    "from nltk.tokenize import WhitespaceTokenizer\n",
    "from nltk.corpus import stopwords\n",
    "from pymorphy2 import MorphAnalyzer\n",
    "import pymorphy2\n",
    "from string import punctuation\n",
    "exclude = set(punctuation + u'[]—«»–')\n",
    "\n",
    "%matplotlib inline"
   ]
  },
  {
   "cell_type": "code",
   "execution_count": null,
   "metadata": {
    "collapsed": true
   },
   "outputs": [],
   "source": []
  },
  {
   "cell_type": "markdown",
   "metadata": {},
   "source": [
    "**API Tokens**"
   ]
  },
  {
   "cell_type": "code",
   "execution_count": 83,
   "metadata": {},
   "outputs": [],
   "source": [
    "gmaps = googlemaps.Client(key='')\n",
    "foursquare_client_id = ''\n",
    "foursquare_client_secret = ''"
   ]
  },
  {
   "cell_type": "code",
   "execution_count": null,
   "metadata": {
    "collapsed": true
   },
   "outputs": [],
   "source": []
  },
  {
   "cell_type": "markdown",
   "metadata": {},
   "source": [
    "## Google places - подгружаем ЛУПы"
   ]
  },
  {
   "cell_type": "code",
   "execution_count": 87,
   "metadata": {
    "collapsed": true
   },
   "outputs": [],
   "source": [
    "google_places_ids_json = gmaps.places_radar(location=[55.7522200, 37.6155600], radius=50000, type='hospital')"
   ]
  },
  {
   "cell_type": "code",
   "execution_count": 150,
   "metadata": {},
   "outputs": [],
   "source": [
    "data = pd.DataFrame()\n",
    "count = 0\n",
    "for res in google_places_ids_json.get('results'):\n",
    "    data.loc[count, 'lat'] = res.get('geometry').get('location').get('lat')\n",
    "    data.loc[count, 'long'] = res.get('geometry').get('location').get('lng')\n",
    "    data.loc[count, 'place_id'] = res.get('place_id')\n",
    "    count += 1"
   ]
  },
  {
   "cell_type": "code",
   "execution_count": 152,
   "metadata": {
    "scrolled": true
   },
   "outputs": [
    {
     "data": {
      "text/html": [
       "<div>\n",
       "<style>\n",
       "    .dataframe thead tr:only-child th {\n",
       "        text-align: right;\n",
       "    }\n",
       "\n",
       "    .dataframe thead th {\n",
       "        text-align: left;\n",
       "    }\n",
       "\n",
       "    .dataframe tbody tr th {\n",
       "        vertical-align: top;\n",
       "    }\n",
       "</style>\n",
       "<table border=\"1\" class=\"dataframe\">\n",
       "  <thead>\n",
       "    <tr style=\"text-align: right;\">\n",
       "      <th></th>\n",
       "      <th>lat</th>\n",
       "      <th>long</th>\n",
       "      <th>place_id</th>\n",
       "    </tr>\n",
       "  </thead>\n",
       "  <tbody>\n",
       "    <tr>\n",
       "      <th>0</th>\n",
       "      <td>55.664012</td>\n",
       "      <td>37.522861</td>\n",
       "      <td>ChIJxUJiGhlNtUYRjyucIeHbeVI</td>\n",
       "    </tr>\n",
       "    <tr>\n",
       "      <th>1</th>\n",
       "      <td>55.756777</td>\n",
       "      <td>37.638748</td>\n",
       "      <td>ChIJB437ifVKtUYR7EMUU6VApLg</td>\n",
       "    </tr>\n",
       "    <tr>\n",
       "      <th>2</th>\n",
       "      <td>55.755245</td>\n",
       "      <td>37.656547</td>\n",
       "      <td>ChIJ2acH14xKtUYRCFp01z3Cgbk</td>\n",
       "    </tr>\n",
       "  </tbody>\n",
       "</table>\n",
       "</div>"
      ],
      "text/plain": [
       "         lat       long                     place_id\n",
       "0  55.664012  37.522861  ChIJxUJiGhlNtUYRjyucIeHbeVI\n",
       "1  55.756777  37.638748  ChIJB437ifVKtUYR7EMUU6VApLg\n",
       "2  55.755245  37.656547  ChIJ2acH14xKtUYRCFp01z3Cgbk"
      ]
     },
     "execution_count": 152,
     "metadata": {},
     "output_type": "execute_result"
    }
   ],
   "source": [
    "data.head(3)"
   ]
  },
  {
   "cell_type": "code",
   "execution_count": null,
   "metadata": {
    "collapsed": true
   },
   "outputs": [],
   "source": []
  },
  {
   "cell_type": "markdown",
   "metadata": {},
   "source": [
    "## Google places - подгружаем отзывы"
   ]
  },
  {
   "cell_type": "code",
   "execution_count": 102,
   "metadata": {
    "collapsed": true
   },
   "outputs": [],
   "source": [
    "def get_reviews_from_google(place_id, language = 'ru-RU'):\n",
    "    \n",
    "    '''\n",
    "    \n",
    "    Функция для загрузки отзывов о месте на карте\n",
    "    \n",
    "    params: place_id - id места\n",
    "    params: language - язык \n",
    "    \n",
    "    '''\n",
    "    \n",
    "    detail_info_about_place = gmaps.place(place_id, language)    \n",
    "    \n",
    "    # имя места\n",
    "    if 'name' in detail_info_about_place['result']:\n",
    "        place_name = detail_info_about_place['result']['name']\n",
    "    else:\n",
    "        place_name = None\n",
    "    \n",
    "    # общий рейтинг\n",
    "    if 'rating' in detail_info_about_place['result']:\n",
    "        place_rating = detail_info_about_place['result']['rating']\n",
    "    else:\n",
    "        place_rating = None\n",
    "        \n",
    "    # отзывы\n",
    "    place_reviews = []\n",
    "    if 'reviews' in detail_info_about_place['result']:\n",
    "        for review in detail_info_about_place['result']['reviews']:\n",
    "            place_reviews.append([review['text'], review['rating'], review['time']])\n",
    "            \n",
    "    # сайт\n",
    "    if 'website' in detail_info_about_place['result']:\n",
    "        place_website = detail_info_about_place['result']['website']\n",
    "    else:\n",
    "        place_website = None\n",
    "            \n",
    "    return place_name, place_rating, place_website, place_reviews"
   ]
  },
  {
   "cell_type": "code",
   "execution_count": 153,
   "metadata": {},
   "outputs": [],
   "source": [
    "# загрузим отзывы\n",
    "\n",
    "google_reviews_df = pd.DataFrame()\n",
    "count = 0\n",
    "for place_id in data['place_id'].unique():\n",
    "    result = get_reviews_from_google(place_id)\n",
    "    \n",
    "    if result == None:\n",
    "        continue\n",
    "    else:\n",
    "        reviews = result[3]\n",
    "        \n",
    "    for review in reviews:\n",
    "        google_reviews_df.loc[count, 'place_id'] = place_id\n",
    "        google_reviews_df.loc[count, 'place_name'] = result[0]\n",
    "        google_reviews_df.loc[count, 'place_rating'] = result[1]\n",
    "        google_reviews_df.loc[count, 'place_website'] = result[2]\n",
    "        google_reviews_df.loc[count, 'text'] = review[0]\n",
    "        google_reviews_df.loc[count, 'rating'] = review[1]\n",
    "        google_reviews_df.loc[count, 'time'] = review[2]\n",
    "        count += 1"
   ]
  },
  {
   "cell_type": "code",
   "execution_count": 154,
   "metadata": {},
   "outputs": [
    {
     "data": {
      "text/html": [
       "<div>\n",
       "<style>\n",
       "    .dataframe thead tr:only-child th {\n",
       "        text-align: right;\n",
       "    }\n",
       "\n",
       "    .dataframe thead th {\n",
       "        text-align: left;\n",
       "    }\n",
       "\n",
       "    .dataframe tbody tr th {\n",
       "        vertical-align: top;\n",
       "    }\n",
       "</style>\n",
       "<table border=\"1\" class=\"dataframe\">\n",
       "  <thead>\n",
       "    <tr style=\"text-align: right;\">\n",
       "      <th></th>\n",
       "      <th>place_id</th>\n",
       "      <th>place_name</th>\n",
       "      <th>place_rating</th>\n",
       "      <th>place_website</th>\n",
       "      <th>text</th>\n",
       "      <th>rating</th>\n",
       "      <th>time</th>\n",
       "    </tr>\n",
       "  </thead>\n",
       "  <tbody>\n",
       "    <tr>\n",
       "      <th>0</th>\n",
       "      <td>ChIJxUJiGhlNtUYRjyucIeHbeVI</td>\n",
       "      <td>Родильный дом №4, филиал №1 ГКБ им. В.В. Виног...</td>\n",
       "      <td>4.2</td>\n",
       "      <td>http://www.roddom4.ru/</td>\n",
       "      <td>Рожала первый раз, пришли ночью, когда отошли ...</td>\n",
       "      <td>5.0</td>\n",
       "      <td>1.500051e+09</td>\n",
       "    </tr>\n",
       "    <tr>\n",
       "      <th>1</th>\n",
       "      <td>ChIJxUJiGhlNtUYRjyucIeHbeVI</td>\n",
       "      <td>Родильный дом №4, филиал №1 ГКБ им. В.В. Виног...</td>\n",
       "      <td>4.2</td>\n",
       "      <td>http://www.roddom4.ru/</td>\n",
       "      <td>Самый лучший роддом столицы!!! Самый лучший ко...</td>\n",
       "      <td>5.0</td>\n",
       "      <td>1.504410e+09</td>\n",
       "    </tr>\n",
       "    <tr>\n",
       "      <th>2</th>\n",
       "      <td>ChIJxUJiGhlNtUYRjyucIeHbeVI</td>\n",
       "      <td>Родильный дом №4, филиал №1 ГКБ им. В.В. Виног...</td>\n",
       "      <td>4.2</td>\n",
       "      <td>http://www.roddom4.ru/</td>\n",
       "      <td>Роддом #4 порадовал своей приятной атмосферой,...</td>\n",
       "      <td>5.0</td>\n",
       "      <td>1.480424e+09</td>\n",
       "    </tr>\n",
       "  </tbody>\n",
       "</table>\n",
       "</div>"
      ],
      "text/plain": [
       "                      place_id  \\\n",
       "0  ChIJxUJiGhlNtUYRjyucIeHbeVI   \n",
       "1  ChIJxUJiGhlNtUYRjyucIeHbeVI   \n",
       "2  ChIJxUJiGhlNtUYRjyucIeHbeVI   \n",
       "\n",
       "                                          place_name  place_rating  \\\n",
       "0  Родильный дом №4, филиал №1 ГКБ им. В.В. Виног...           4.2   \n",
       "1  Родильный дом №4, филиал №1 ГКБ им. В.В. Виног...           4.2   \n",
       "2  Родильный дом №4, филиал №1 ГКБ им. В.В. Виног...           4.2   \n",
       "\n",
       "            place_website                                               text  \\\n",
       "0  http://www.roddom4.ru/  Рожала первый раз, пришли ночью, когда отошли ...   \n",
       "1  http://www.roddom4.ru/  Самый лучший роддом столицы!!! Самый лучший ко...   \n",
       "2  http://www.roddom4.ru/  Роддом #4 порадовал своей приятной атмосферой,...   \n",
       "\n",
       "   rating          time  \n",
       "0     5.0  1.500051e+09  \n",
       "1     5.0  1.504410e+09  \n",
       "2     5.0  1.480424e+09  "
      ]
     },
     "execution_count": 154,
     "metadata": {},
     "output_type": "execute_result"
    }
   ],
   "source": [
    "google_reviews_df.head(3)"
   ]
  },
  {
   "cell_type": "code",
   "execution_count": 155,
   "metadata": {},
   "outputs": [],
   "source": [
    "google_reviews_df.to_csv('data/reviews.csv', sep=';')"
   ]
  },
  {
   "cell_type": "code",
   "execution_count": null,
   "metadata": {
    "collapsed": true
   },
   "outputs": [],
   "source": []
  },
  {
   "cell_type": "markdown",
   "metadata": {},
   "source": [
    "## NLP - обучим классификатор тональности текста"
   ]
  },
  {
   "cell_type": "code",
   "execution_count": 19,
   "metadata": {
    "collapsed": true
   },
   "outputs": [],
   "source": [
    "# Возьмем нужные столбцы\n",
    "google_reviews_df = google_reviews_df[google_reviews_df.text != '']\n",
    "\n",
    "def make_reg(x):\n",
    "    if x > 3:\n",
    "        return 1\n",
    "    return 0\n",
    "\n",
    "xtr, xtt, ytr, ytt = train_test_split(google_reviews_df.text, google_reviews_df.rating.map(lambda x: make_reg(x)), test_size = 0.2)"
   ]
  },
  {
   "cell_type": "code",
   "execution_count": 20,
   "metadata": {
    "collapsed": true
   },
   "outputs": [],
   "source": [
    "def preprocess(text):\n",
    "    \n",
    "    '''\n",
    "    \n",
    "    Функция предобработки текста:\n",
    "        1. Разбиваем на токены;\n",
    "        2. Убираем стоп-слова;\n",
    "        3. Лемматизируем.\n",
    "        \n",
    "    params text: исходный текст\n",
    "    \n",
    "    '''\n",
    "    \n",
    "    buf = ''.join(ch for ch in text if ch not in exclude)\n",
    "    tokens = WhitespaceTokenizer().tokenize(buf.lower())\n",
    "    lemmatizer = MorphAnalyzer()\n",
    "    lemmas = []\n",
    "    for t in tokens[:]:\n",
    "        if not t in stopwords.words('russian'):\n",
    "            try:\n",
    "                lemma = lemmatizer.parse(t)[0].normal_form\n",
    "            except: \n",
    "                lemma = t\n",
    "            lemmas.append(lemma)\n",
    "    return lemmas"
   ]
  },
  {
   "cell_type": "code",
   "execution_count": 21,
   "metadata": {},
   "outputs": [
    {
     "name": "stdout",
     "output_type": "stream",
     "text": [
      "Data prepared.\n"
     ]
    }
   ],
   "source": [
    "# Разбиваем на n-граммы и векторизируем комментарии\n",
    "vectorizer = TfidfVectorizer(ngram_range=(1,3), tokenizer=preprocess)\n",
    "vectors = vectorizer.fit_transform(xtr).toarray()\n",
    "vectors_test = vectorizer.transform(xtt).toarray()\n",
    "\n",
    "print('Data prepared.')"
   ]
  },
  {
   "cell_type": "code",
   "execution_count": 22,
   "metadata": {},
   "outputs": [
    {
     "name": "stdout",
     "output_type": "stream",
     "text": [
      "Model fitted.\n"
     ]
    }
   ],
   "source": [
    "# Обучим классификатор\n",
    "classifier = CatBoostClassifier()\n",
    "classifier.fit(vectors, ytr)\n",
    "\n",
    "print('Model fitted.')"
   ]
  },
  {
   "cell_type": "code",
   "execution_count": 28,
   "metadata": {},
   "outputs": [
    {
     "name": "stdout",
     "output_type": "stream",
     "text": [
      "Accuracy: 90.68%\n"
     ]
    }
   ],
   "source": [
    "# Проверим результат\n",
    "yt = 0\n",
    "for i, v in enumerate(classifier.predict(vectors_test)):\n",
    "    if v == ytt.values[i]:\n",
    "        yt += 1\n",
    "        \n",
    "print('Accuracy:', \"{0:.2f}%\".format(yt / len(ytt) * 100))"
   ]
  },
  {
   "cell_type": "code",
   "execution_count": 114,
   "metadata": {},
   "outputs": [],
   "source": [
    "# обучим на всей выборке\n",
    "google_reviews_df.rating = google_reviews_df.rating.map(lambda x: make_reg(x))\n",
    "classifier = CatBoostClassifier()\n",
    "classifier.fit(vectorizer.transform(google_reviews_df.text).toarray(), google_reviews_df.rating)"
   ]
  },
  {
   "cell_type": "code",
   "execution_count": 32,
   "metadata": {
    "collapsed": true
   },
   "outputs": [],
   "source": [
    "# сохраним модель\n",
    "classifier.save_model('models/text_tonality_model')"
   ]
  },
  {
   "cell_type": "code",
   "execution_count": null,
   "metadata": {
    "collapsed": true
   },
   "outputs": [],
   "source": []
  },
  {
   "cell_type": "markdown",
   "metadata": {},
   "source": [
    "## 4Square - собираем дополнительные отзывы"
   ]
  },
  {
   "cell_type": "code",
   "execution_count": 121,
   "metadata": {
    "collapsed": true
   },
   "outputs": [],
   "source": [
    "def get_reviews_from_fsq(place_name):\n",
    "    \n",
    "    '''\n",
    "    \n",
    "    Функция для загрузки отзывов с foursquare.com\n",
    "    \n",
    "    params place_name: название места\n",
    "    \n",
    "    '''\n",
    "    \n",
    "    client = foursquare.Foursquare(client_id=foursquare_client_id, client_secret=foursquare_client_secret)\n",
    "\n",
    "    venues = client.venues.search(params={'near': 'Moscow, Russia', 'query': place_name})\n",
    "    reviews = []\n",
    "\n",
    "    if len(venues['venues']) > 0 and venues['venues'][0]['stats']['tipCount'] > 0:\n",
    "        venue_id = venues['venues'][0]['id']\n",
    "        venue_tips = client.venues.tips(venue_id, params={'sort': 'recent', 'limit':500})\n",
    "        for tip in venue_tips['tips']['items']: \n",
    "            reviews.append([tip['text'], tip['createdAt']])\n",
    "    \n",
    "    if len(venues['venues']) > 0:\n",
    "        \n",
    "        if 'url' in venues['venues'][0]:\n",
    "            website = venues['venues'][0]['url']\n",
    "        else:\n",
    "            website = None\n",
    "        \n",
    "        if 'stats' in venues['venues'][0]:\n",
    "            checkins = venues['venues'][0]['stats']['checkinsCount'] \n",
    "            users = venues['venues'][0]['stats']['usersCount'] \n",
    "        else:\n",
    "            checkins = None\n",
    "            users = None\n",
    "            \n",
    "    else:\n",
    "        website = None\n",
    "        checkins = None\n",
    "        users = None\n",
    "    \n",
    "    return website, reviews, checkins, users"
   ]
  },
  {
   "cell_type": "code",
   "execution_count": 130,
   "metadata": {
    "scrolled": true
   },
   "outputs": [],
   "source": [
    "# загрузим отзывы с 4square\n",
    "\n",
    "foursquare_df = pd.DataFrame(columns=['place_name', 'place_website', 'text', 'checkins', 'users'])\n",
    "count = 0\n",
    "\n",
    "for place_name in google_reviews_df.place_name.unique():\n",
    "    result = get_reviews_from_fsq(place_name)\n",
    "    \n",
    "    foursquare_df.loc[count, 'place_name'] = place_name\n",
    "    \n",
    "    if result is None:\n",
    "        continue\n",
    "        \n",
    "    foursquare_df.loc[count, 'place_website'] = result[0]\n",
    "    foursquare_df.at[count, 'text'] = result[1]\n",
    "    foursquare_df.loc[count, 'checkins'] = result[2]\n",
    "    foursquare_df.loc[count, 'users'] = result[3]\n",
    "    count += 1"
   ]
  },
  {
   "cell_type": "code",
   "execution_count": 141,
   "metadata": {},
   "outputs": [
    {
     "data": {
      "text/html": [
       "<div>\n",
       "<style>\n",
       "    .dataframe thead tr:only-child th {\n",
       "        text-align: right;\n",
       "    }\n",
       "\n",
       "    .dataframe thead th {\n",
       "        text-align: left;\n",
       "    }\n",
       "\n",
       "    .dataframe tbody tr th {\n",
       "        vertical-align: top;\n",
       "    }\n",
       "</style>\n",
       "<table border=\"1\" class=\"dataframe\">\n",
       "  <thead>\n",
       "    <tr style=\"text-align: right;\">\n",
       "      <th></th>\n",
       "      <th>place_name</th>\n",
       "      <th>place_website</th>\n",
       "      <th>text</th>\n",
       "      <th>checkins</th>\n",
       "      <th>users</th>\n",
       "    </tr>\n",
       "  </thead>\n",
       "  <tbody>\n",
       "    <tr>\n",
       "      <th>1</th>\n",
       "      <td>Национальный медицинский исследовательский цен...</td>\n",
       "      <td>https://www.gnicpm.ru</td>\n",
       "      <td>[[В кабинете 101 институтская столовая, гардер...</td>\n",
       "      <td>67</td>\n",
       "      <td>31</td>\n",
       "    </tr>\n",
       "    <tr>\n",
       "      <th>3</th>\n",
       "      <td>МОБИЛМЕД</td>\n",
       "      <td>https://www.mobil-med.org</td>\n",
       "      <td>[[У них тут даже Густав Климт висит. Ненастоящ...</td>\n",
       "      <td>1148</td>\n",
       "      <td>802</td>\n",
       "    </tr>\n",
       "    <tr>\n",
       "      <th>5</th>\n",
       "      <td>Семейный доктор, Поликлиника № 9</td>\n",
       "      <td>http://www.fdoctor.ru/clinics/michurinski/</td>\n",
       "      <td>[[Ухудшилось качество обслуживания! Новые докт...</td>\n",
       "      <td>1255</td>\n",
       "      <td>351</td>\n",
       "    </tr>\n",
       "  </tbody>\n",
       "</table>\n",
       "</div>"
      ],
      "text/plain": [
       "                                          place_name  \\\n",
       "1  Национальный медицинский исследовательский цен...   \n",
       "3                                           МОБИЛМЕД   \n",
       "5                   Семейный доктор, Поликлиника № 9   \n",
       "\n",
       "                                place_website  \\\n",
       "1                       https://www.gnicpm.ru   \n",
       "3                   https://www.mobil-med.org   \n",
       "5  http://www.fdoctor.ru/clinics/michurinski/   \n",
       "\n",
       "                                                text checkins users  \n",
       "1  [[В кабинете 101 институтская столовая, гардер...       67    31  \n",
       "3  [[У них тут даже Густав Климт висит. Ненастоящ...     1148   802  \n",
       "5  [[Ухудшилось качество обслуживания! Новые докт...     1255   351  "
      ]
     },
     "execution_count": 141,
     "metadata": {},
     "output_type": "execute_result"
    }
   ],
   "source": [
    "foursquare_df.dropna().head(3)"
   ]
  },
  {
   "cell_type": "code",
   "execution_count": 132,
   "metadata": {
    "collapsed": true
   },
   "outputs": [],
   "source": [
    "foursquare_df.to_csv('data/foursquare_reviews.csv', sep=';')"
   ]
  },
  {
   "cell_type": "code",
   "execution_count": null,
   "metadata": {
    "collapsed": true
   },
   "outputs": [],
   "source": []
  },
  {
   "cell_type": "markdown",
   "metadata": {},
   "source": [
    "## Добавим отзывы в датафрейм"
   ]
  },
  {
   "cell_type": "code",
   "execution_count": 161,
   "metadata": {
    "scrolled": true
   },
   "outputs": [
    {
     "data": {
      "text/html": [
       "<div>\n",
       "<style>\n",
       "    .dataframe thead tr:only-child th {\n",
       "        text-align: right;\n",
       "    }\n",
       "\n",
       "    .dataframe thead th {\n",
       "        text-align: left;\n",
       "    }\n",
       "\n",
       "    .dataframe tbody tr th {\n",
       "        vertical-align: top;\n",
       "    }\n",
       "</style>\n",
       "<table border=\"1\" class=\"dataframe\">\n",
       "  <thead>\n",
       "    <tr style=\"text-align: right;\">\n",
       "      <th></th>\n",
       "      <th>lat</th>\n",
       "      <th>long</th>\n",
       "      <th>place_id</th>\n",
       "      <th>place_name</th>\n",
       "      <th>place_website</th>\n",
       "      <th>place_rating</th>\n",
       "    </tr>\n",
       "  </thead>\n",
       "  <tbody>\n",
       "    <tr>\n",
       "      <th>0</th>\n",
       "      <td>55.664012</td>\n",
       "      <td>37.522861</td>\n",
       "      <td>ChIJxUJiGhlNtUYRjyucIeHbeVI</td>\n",
       "      <td>Родильный дом №4, филиал №1 ГКБ им. В.В. Виног...</td>\n",
       "      <td>http://www.roddom4.ru/</td>\n",
       "      <td>4.2</td>\n",
       "    </tr>\n",
       "    <tr>\n",
       "      <th>5</th>\n",
       "      <td>55.756777</td>\n",
       "      <td>37.638748</td>\n",
       "      <td>ChIJB437ifVKtUYR7EMUU6VApLg</td>\n",
       "      <td>Национальный медицинский исследовательский цен...</td>\n",
       "      <td>http://www.gnicpm.ru/</td>\n",
       "      <td>4.3</td>\n",
       "    </tr>\n",
       "    <tr>\n",
       "      <th>10</th>\n",
       "      <td>55.755245</td>\n",
       "      <td>37.656547</td>\n",
       "      <td>ChIJ2acH14xKtUYRCFp01z3Cgbk</td>\n",
       "      <td>МедЦентрСервис</td>\n",
       "      <td>http://medtsentrservis.ru/</td>\n",
       "      <td>4.7</td>\n",
       "    </tr>\n",
       "  </tbody>\n",
       "</table>\n",
       "</div>"
      ],
      "text/plain": [
       "          lat       long                     place_id  \\\n",
       "0   55.664012  37.522861  ChIJxUJiGhlNtUYRjyucIeHbeVI   \n",
       "5   55.756777  37.638748  ChIJB437ifVKtUYR7EMUU6VApLg   \n",
       "10  55.755245  37.656547  ChIJ2acH14xKtUYRCFp01z3Cgbk   \n",
       "\n",
       "                                           place_name  \\\n",
       "0   Родильный дом №4, филиал №1 ГКБ им. В.В. Виног...   \n",
       "5   Национальный медицинский исследовательский цен...   \n",
       "10                                     МедЦентрСервис   \n",
       "\n",
       "                 place_website  place_rating  \n",
       "0       http://www.roddom4.ru/           4.2  \n",
       "5        http://www.gnicpm.ru/           4.3  \n",
       "10  http://medtsentrservis.ru/           4.7  "
      ]
     },
     "execution_count": 161,
     "metadata": {},
     "output_type": "execute_result"
    }
   ],
   "source": [
    "# добавим общий рейтинг, имя места, сайт\n",
    "data = data.merge(google_reviews_df[['place_id', 'place_name', 'place_website', 'place_rating']].rename(columns={'rating':'Рейтинг'}), on=['place_id'], how = 'left').drop_duplicates().dropna()\n",
    "data.head(3)"
   ]
  },
  {
   "cell_type": "code",
   "execution_count": 195,
   "metadata": {},
   "outputs": [
    {
     "name": "stderr",
     "output_type": "stream",
     "text": [
      "100%|████████████████████████████████████████████████████████████████████████████████| 147/147 [04:01<00:00,  1.64s/it]\n"
     ]
    }
   ],
   "source": [
    "# добавим аггрегированный рейтинг по отзывам (4square)\n",
    "\n",
    "for i, row in tqdm.tqdm(foursquare_df.iterrows(), total = foursquare_df.shape[0]):\n",
    "    texts = row.text\n",
    "    if len(texts) == 0:\n",
    "        continue\n",
    "        \n",
    "    scores = []\n",
    "    timestamps = []\n",
    "    for text in texts:\n",
    "        \n",
    "        timestamps.append(datetime.fromtimestamp(text[1]).year)\n",
    "        text = text[0]\n",
    "        \n",
    "        a = pd.DataFrame()\n",
    "        a.loc[0, 'a'] = text\n",
    "        \n",
    "        scores.append(classifier.predict(vectorizer.transform(a.a).toarray()))\n",
    "    \n",
    "    \n",
    "    max_year = np.max(timestamps)\n",
    "    timestamp_coefs = []\n",
    "    for timestamp in timestamps:\n",
    "        timestamp_coefs.append(1 / (max_year + 1 - timestamp))\n",
    "        \n",
    "    final_scores = []\n",
    "    for i in range(len(scores)):\n",
    "        final_scores.append(scores[i] * timestamp_coefs[i])\n",
    "        \n",
    "    data.loc[data[data.place_name == row.place_name].index, 'review_mean'] = np.mean(final_scores)\n",
    "    data.loc[data[data.place_name == row.place_name].index, 'review_std'] = np.std(final_scores)\n",
    "    data.loc[data[data.place_name == row.place_name].index, 'checkins'] = row.checkins\n",
    "    data.loc[data[data.place_name == row.place_name].index, 'users'] = row.users\n",
    "    data.loc[data[data.place_name == row.place_name].index, 'place_website_4q'] = row.place_website"
   ]
  },
  {
   "cell_type": "code",
   "execution_count": 198,
   "metadata": {},
   "outputs": [
    {
     "data": {
      "text/html": [
       "<div>\n",
       "<style>\n",
       "    .dataframe thead tr:only-child th {\n",
       "        text-align: right;\n",
       "    }\n",
       "\n",
       "    .dataframe thead th {\n",
       "        text-align: left;\n",
       "    }\n",
       "\n",
       "    .dataframe tbody tr th {\n",
       "        vertical-align: top;\n",
       "    }\n",
       "</style>\n",
       "<table border=\"1\" class=\"dataframe\">\n",
       "  <thead>\n",
       "    <tr style=\"text-align: right;\">\n",
       "      <th></th>\n",
       "      <th>lat</th>\n",
       "      <th>long</th>\n",
       "      <th>place_id</th>\n",
       "      <th>place_name</th>\n",
       "      <th>place_website</th>\n",
       "      <th>place_rating</th>\n",
       "      <th>review_mean</th>\n",
       "      <th>review_std</th>\n",
       "      <th>checkins</th>\n",
       "      <th>users</th>\n",
       "      <th>place_website_4q</th>\n",
       "    </tr>\n",
       "  </thead>\n",
       "  <tbody>\n",
       "    <tr>\n",
       "      <th>0</th>\n",
       "      <td>55.664012</td>\n",
       "      <td>37.522861</td>\n",
       "      <td>ChIJxUJiGhlNtUYRjyucIeHbeVI</td>\n",
       "      <td>Родильный дом №4, филиал №1 ГКБ им. В.В. Виног...</td>\n",
       "      <td>http://www.roddom4.ru/</td>\n",
       "      <td>4.2</td>\n",
       "      <td>NaN</td>\n",
       "      <td>NaN</td>\n",
       "      <td>NaN</td>\n",
       "      <td>NaN</td>\n",
       "      <td>NaN</td>\n",
       "    </tr>\n",
       "    <tr>\n",
       "      <th>5</th>\n",
       "      <td>55.756777</td>\n",
       "      <td>37.638748</td>\n",
       "      <td>ChIJB437ifVKtUYR7EMUU6VApLg</td>\n",
       "      <td>Национальный медицинский исследовательский цен...</td>\n",
       "      <td>http://www.gnicpm.ru/</td>\n",
       "      <td>4.3</td>\n",
       "      <td>0.25</td>\n",
       "      <td>0.433013</td>\n",
       "      <td>67.0</td>\n",
       "      <td>31.0</td>\n",
       "      <td>https://www.gnicpm.ru</td>\n",
       "    </tr>\n",
       "    <tr>\n",
       "      <th>10</th>\n",
       "      <td>55.755245</td>\n",
       "      <td>37.656547</td>\n",
       "      <td>ChIJ2acH14xKtUYRCFp01z3Cgbk</td>\n",
       "      <td>МедЦентрСервис</td>\n",
       "      <td>http://medtsentrservis.ru/</td>\n",
       "      <td>4.7</td>\n",
       "      <td>NaN</td>\n",
       "      <td>NaN</td>\n",
       "      <td>NaN</td>\n",
       "      <td>NaN</td>\n",
       "      <td>NaN</td>\n",
       "    </tr>\n",
       "  </tbody>\n",
       "</table>\n",
       "</div>"
      ],
      "text/plain": [
       "          lat       long                     place_id  \\\n",
       "0   55.664012  37.522861  ChIJxUJiGhlNtUYRjyucIeHbeVI   \n",
       "5   55.756777  37.638748  ChIJB437ifVKtUYR7EMUU6VApLg   \n",
       "10  55.755245  37.656547  ChIJ2acH14xKtUYRCFp01z3Cgbk   \n",
       "\n",
       "                                           place_name  \\\n",
       "0   Родильный дом №4, филиал №1 ГКБ им. В.В. Виног...   \n",
       "5   Национальный медицинский исследовательский цен...   \n",
       "10                                     МедЦентрСервис   \n",
       "\n",
       "                 place_website  place_rating  review_mean  review_std  \\\n",
       "0       http://www.roddom4.ru/           4.2          NaN         NaN   \n",
       "5        http://www.gnicpm.ru/           4.3         0.25    0.433013   \n",
       "10  http://medtsentrservis.ru/           4.7          NaN         NaN   \n",
       "\n",
       "    checkins  users       place_website_4q  \n",
       "0        NaN    NaN                    NaN  \n",
       "5       67.0   31.0  https://www.gnicpm.ru  \n",
       "10       NaN    NaN                    NaN  "
      ]
     },
     "execution_count": 198,
     "metadata": {},
     "output_type": "execute_result"
    }
   ],
   "source": [
    "data.head(3)"
   ]
  },
  {
   "cell_type": "code",
   "execution_count": 197,
   "metadata": {
    "collapsed": true
   },
   "outputs": [],
   "source": [
    "data.to_csv('data/data.csv', encoding='cp1251', sep=';', index = False)"
   ]
  },
  {
   "cell_type": "code",
   "execution_count": null,
   "metadata": {
    "collapsed": true
   },
   "outputs": [],
   "source": []
  }
 ],
 "metadata": {
  "kernelspec": {
   "display_name": "Python 3",
   "language": "python",
   "name": "python3"
  },
  "language_info": {
   "codemirror_mode": {
    "name": "ipython",
    "version": 3
   },
   "file_extension": ".py",
   "mimetype": "text/x-python",
   "name": "python",
   "nbconvert_exporter": "python",
   "pygments_lexer": "ipython3",
   "version": "3.6.2"
  }
 },
 "nbformat": 4,
 "nbformat_minor": 2
}
