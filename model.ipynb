{
 "cells": [
  {
   "cell_type": "code",
   "execution_count": 25,
   "metadata": {},
   "outputs": [],
   "source": [
    "import pandas as pd\n",
    "import numpy as np\n",
    "\n",
    "from catboost import CatBoostRegressor\n",
    "from sklearn.model_selection import train_test_split\n",
    "from sklearn.metrics import mean_squared_error\n",
    "\n",
    "%matplotlib inline"
   ]
  },
  {
   "cell_type": "code",
   "execution_count": null,
   "metadata": {
    "collapsed": true
   },
   "outputs": [],
   "source": []
  },
  {
   "cell_type": "markdown",
   "metadata": {},
   "source": [
    "## Данные"
   ]
  },
  {
   "cell_type": "code",
   "execution_count": 27,
   "metadata": {
    "scrolled": true
   },
   "outputs": [
    {
     "data": {
      "text/html": [
       "<div>\n",
       "<style>\n",
       "    .dataframe thead tr:only-child th {\n",
       "        text-align: right;\n",
       "    }\n",
       "\n",
       "    .dataframe thead th {\n",
       "        text-align: left;\n",
       "    }\n",
       "\n",
       "    .dataframe tbody tr th {\n",
       "        vertical-align: top;\n",
       "    }\n",
       "</style>\n",
       "<table border=\"1\" class=\"dataframe\">\n",
       "  <thead>\n",
       "    <tr style=\"text-align: right;\">\n",
       "      <th></th>\n",
       "      <th>lat</th>\n",
       "      <th>long</th>\n",
       "      <th>place_id</th>\n",
       "      <th>place_name</th>\n",
       "      <th>place_website</th>\n",
       "      <th>place_rating</th>\n",
       "      <th>review_mean</th>\n",
       "      <th>review_std</th>\n",
       "      <th>checkins</th>\n",
       "      <th>users</th>\n",
       "      <th>place_website_4q</th>\n",
       "      <th>group_id</th>\n",
       "      <th>group_followers_count</th>\n",
       "      <th>world_rank</th>\n",
       "      <th>country_rank</th>\n",
       "      <th>link_numbers</th>\n",
       "      <th>distance_metro</th>\n",
       "      <th>district</th>\n",
       "      <th>rating</th>\n",
       "    </tr>\n",
       "  </thead>\n",
       "  <tbody>\n",
       "    <tr>\n",
       "      <th>0</th>\n",
       "      <td>55.664012</td>\n",
       "      <td>37.522861</td>\n",
       "      <td>ChIJxUJiGhlNtUYRjyucIeHbeVI</td>\n",
       "      <td>Родильный дом №4, филиал №1 ГКБ им. В.В. Виног...</td>\n",
       "      <td>http://www.roddom4.ru/</td>\n",
       "      <td>4.2</td>\n",
       "      <td>NaN</td>\n",
       "      <td>NaN</td>\n",
       "      <td>NaN</td>\n",
       "      <td>NaN</td>\n",
       "      <td>NaN</td>\n",
       "      <td>NaN</td>\n",
       "      <td>NaN</td>\n",
       "      <td>1486796.0</td>\n",
       "      <td>102707.0</td>\n",
       "      <td>65.0</td>\n",
       "      <td>2022.568885</td>\n",
       "      <td>Россия, Москва, Юго-Западный административный ...</td>\n",
       "      <td>56.0</td>\n",
       "    </tr>\n",
       "    <tr>\n",
       "      <th>1</th>\n",
       "      <td>55.756778</td>\n",
       "      <td>37.638748</td>\n",
       "      <td>ChIJB437ifVKtUYR7EMUU6VApLg</td>\n",
       "      <td>Национальный медицинский исследовательский цен...</td>\n",
       "      <td>http://www.gnicpm.ru/</td>\n",
       "      <td>4.3</td>\n",
       "      <td>0.25</td>\n",
       "      <td>0.433013</td>\n",
       "      <td>67.0</td>\n",
       "      <td>31.0</td>\n",
       "      <td>https://www.gnicpm.ru</td>\n",
       "      <td>NaN</td>\n",
       "      <td>NaN</td>\n",
       "      <td>556465.0</td>\n",
       "      <td>38222.0</td>\n",
       "      <td>281.0</td>\n",
       "      <td>582.634054</td>\n",
       "      <td>Россия, Москва, Центральный административный о...</td>\n",
       "      <td>100.0</td>\n",
       "    </tr>\n",
       "    <tr>\n",
       "      <th>2</th>\n",
       "      <td>55.755245</td>\n",
       "      <td>37.656547</td>\n",
       "      <td>ChIJ2acH14xKtUYRCFp01z3Cgbk</td>\n",
       "      <td>МедЦентрСервис</td>\n",
       "      <td>http://medtsentrservis.ru/</td>\n",
       "      <td>4.7</td>\n",
       "      <td>NaN</td>\n",
       "      <td>NaN</td>\n",
       "      <td>NaN</td>\n",
       "      <td>NaN</td>\n",
       "      <td>NaN</td>\n",
       "      <td>100098038.0</td>\n",
       "      <td>474.0</td>\n",
       "      <td>10188597.0</td>\n",
       "      <td>NaN</td>\n",
       "      <td>0.0</td>\n",
       "      <td>308.311597</td>\n",
       "      <td>Россия, Москва, Центральный административный о...</td>\n",
       "      <td>100.0</td>\n",
       "    </tr>\n",
       "  </tbody>\n",
       "</table>\n",
       "</div>"
      ],
      "text/plain": [
       "         lat       long                     place_id  \\\n",
       "0  55.664012  37.522861  ChIJxUJiGhlNtUYRjyucIeHbeVI   \n",
       "1  55.756778  37.638748  ChIJB437ifVKtUYR7EMUU6VApLg   \n",
       "2  55.755245  37.656547  ChIJ2acH14xKtUYRCFp01z3Cgbk   \n",
       "\n",
       "                                          place_name  \\\n",
       "0  Родильный дом №4, филиал №1 ГКБ им. В.В. Виног...   \n",
       "1  Национальный медицинский исследовательский цен...   \n",
       "2                                     МедЦентрСервис   \n",
       "\n",
       "                place_website  place_rating  review_mean  review_std  \\\n",
       "0      http://www.roddom4.ru/           4.2          NaN         NaN   \n",
       "1       http://www.gnicpm.ru/           4.3         0.25    0.433013   \n",
       "2  http://medtsentrservis.ru/           4.7          NaN         NaN   \n",
       "\n",
       "   checkins  users       place_website_4q     group_id  group_followers_count  \\\n",
       "0       NaN    NaN                    NaN          NaN                    NaN   \n",
       "1      67.0   31.0  https://www.gnicpm.ru          NaN                    NaN   \n",
       "2       NaN    NaN                    NaN  100098038.0                  474.0   \n",
       "\n",
       "   world_rank  country_rank  link_numbers  distance_metro  \\\n",
       "0   1486796.0      102707.0          65.0     2022.568885   \n",
       "1    556465.0       38222.0         281.0      582.634054   \n",
       "2  10188597.0           NaN           0.0      308.311597   \n",
       "\n",
       "                                            district  rating  \n",
       "0  Россия, Москва, Юго-Западный административный ...    56.0  \n",
       "1  Россия, Москва, Центральный административный о...   100.0  \n",
       "2  Россия, Москва, Центральный административный о...   100.0  "
      ]
     },
     "execution_count": 27,
     "metadata": {},
     "output_type": "execute_result"
    }
   ],
   "source": [
    "data = pd.read_csv('data/data_perpared.csv', sep=';', encoding='cp1251')\n",
    "data.head(3)"
   ]
  },
  {
   "cell_type": "code",
   "execution_count": null,
   "metadata": {
    "collapsed": true
   },
   "outputs": [],
   "source": []
  },
  {
   "cell_type": "markdown",
   "metadata": {},
   "source": [
    "## Обучение модели"
   ]
  },
  {
   "cell_type": "code",
   "execution_count": 8,
   "metadata": {
    "collapsed": true
   },
   "outputs": [],
   "source": [
    "# столбцы для регрессии\n",
    "columns = ['review_mean', 'review_std', 'checkins', 'users', 'group_followers_count', 'world_rank', 'country_rank', 'link_numbers', 'distance_metro', 'rating']"
   ]
  },
  {
   "cell_type": "code",
   "execution_count": 11,
   "metadata": {
    "collapsed": true
   },
   "outputs": [],
   "source": [
    "# разбиваем на тренировочную и тестовую выборки\n",
    "xtr, xtt, ytr, ytt = train_test_split(data[columns], data['place_rating'], test_size = 0.2)"
   ]
  },
  {
   "cell_type": "code",
   "execution_count": 13,
   "metadata": {},
   "outputs": [
    {
     "name": "stdout",
     "output_type": "stream",
     "text": [
      "Model fitted.\n"
     ]
    }
   ],
   "source": [
    "# обучим классификатор\n",
    "reg = CatBoostRegressor()\n",
    "reg.fit(xtr, ytr)\n",
    "\n",
    "print('Model fitted.')"
   ]
  },
  {
   "cell_type": "code",
   "execution_count": null,
   "metadata": {
    "collapsed": true
   },
   "outputs": [],
   "source": []
  },
  {
   "cell_type": "markdown",
   "metadata": {},
   "source": [
    "## Результаты"
   ]
  },
  {
   "cell_type": "code",
   "execution_count": 31,
   "metadata": {},
   "outputs": [
    {
     "name": "stdout",
     "output_type": "stream",
     "text": [
      "RMSE: 0.74\n"
     ]
    }
   ],
   "source": [
    "print('RMSE:', \"{0:.2f}\".format(np.sqrt(mean_squared_error(reg.predict(xtt), ytt))))"
   ]
  },
  {
   "cell_type": "code",
   "execution_count": null,
   "metadata": {
    "collapsed": true
   },
   "outputs": [],
   "source": []
  },
  {
   "cell_type": "markdown",
   "metadata": {},
   "source": [
    "## Сохраним результаты"
   ]
  },
  {
   "cell_type": "code",
   "execution_count": 32,
   "metadata": {
    "collapsed": true
   },
   "outputs": [],
   "source": [
    "best = CatBoostRegressor().fit(data[columns], data['place_rating'])\n",
    "best.save_model('models/rating_model')"
   ]
  },
  {
   "cell_type": "code",
   "execution_count": null,
   "metadata": {
    "collapsed": true
   },
   "outputs": [],
   "source": []
  },
  {
   "cell_type": "code",
   "execution_count": null,
   "metadata": {
    "collapsed": true
   },
   "outputs": [],
   "source": []
  }
 ],
 "metadata": {
  "kernelspec": {
   "display_name": "Python 3",
   "language": "python",
   "name": "python3"
  },
  "language_info": {
   "codemirror_mode": {
    "name": "ipython",
    "version": 3
   },
   "file_extension": ".py",
   "mimetype": "text/x-python",
   "name": "python",
   "nbconvert_exporter": "python",
   "pygments_lexer": "ipython3",
   "version": "3.6.2"
  }
 },
 "nbformat": 4,
 "nbformat_minor": 2
}
